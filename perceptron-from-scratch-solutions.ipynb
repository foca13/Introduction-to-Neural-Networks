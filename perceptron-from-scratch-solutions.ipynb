{
 "cells": [
  {
   "cell_type": "markdown",
   "id": "3147bb98-a665-4e76-b9bd-22af4260d017",
   "metadata": {},
   "source": [
    "<h3> The Perceptron </h3>"
   ]
  },
  {
   "cell_type": "markdown",
   "id": "b8d38fe9-56b3-4daf-b014-332bc98b23e5",
   "metadata": {},
   "source": [
    "Today we will build a perceptron that will allow us to determine whether a patient has a sleep disorder or not. We will build it and train it from scratch using only the numpy library, with the additional support of pandas to load the data and matplotlib to visualize the training process and results."
   ]
  },
  {
   "cell_type": "markdown",
   "id": "2e5a3c59-88c3-4a7e-b53c-971e87089f87",
   "metadata": {},
   "source": [
    "<center>\n",
    "    <figure>\n",
    "    <img src=\"perceptron-diagram.png\" alt=\"perceptron\" width=\"75%\"/>\n",
    "      <figcaption>Schematic representation of a Perceptron</figcaption>\n",
    "    </figure>\n",
    "</center>"
   ]
  },
  {
   "cell_type": "code",
   "execution_count": 1,
   "id": "64e0c525-6826-4427-b678-d9da26dcadab",
   "metadata": {},
   "outputs": [],
   "source": [
    "import matplotlib.pyplot as plt\n",
    "import numpy as np\n",
    "import pandas as pd"
   ]
  },
  {
   "cell_type": "markdown",
   "id": "661aa0a6-8f5c-43db-ae43-cc109f631acf",
   "metadata": {},
   "source": [
    "**Exercise 1** - Load the data from the sleep_disorder_data.csv file with pandas and visualize it in the notebook."
   ]
  },
  {
   "cell_type": "code",
   "execution_count": 2,
   "id": "610985bf-4fb8-4c92-8101-1b1971dd0ee3",
   "metadata": {},
   "outputs": [
    {
     "data": {
      "text/html": [
       "<div>\n",
       "<style scoped>\n",
       "    .dataframe tbody tr th:only-of-type {\n",
       "        vertical-align: middle;\n",
       "    }\n",
       "\n",
       "    .dataframe tbody tr th {\n",
       "        vertical-align: top;\n",
       "    }\n",
       "\n",
       "    .dataframe thead th {\n",
       "        text-align: right;\n",
       "    }\n",
       "</style>\n",
       "<table border=\"1\" class=\"dataframe\">\n",
       "  <thead>\n",
       "    <tr style=\"text-align: right;\">\n",
       "      <th></th>\n",
       "      <th>Patient ID</th>\n",
       "      <th>Sleep Quality</th>\n",
       "      <th>Exercise (min/day)</th>\n",
       "      <th>Stress Level</th>\n",
       "      <th>Sleep Disorder</th>\n",
       "    </tr>\n",
       "  </thead>\n",
       "  <tbody>\n",
       "    <tr>\n",
       "      <th>0</th>\n",
       "      <td>1.0</td>\n",
       "      <td>7.0</td>\n",
       "      <td>30.0</td>\n",
       "      <td>4.0</td>\n",
       "      <td>0.0</td>\n",
       "    </tr>\n",
       "    <tr>\n",
       "      <th>1</th>\n",
       "      <td>2.0</td>\n",
       "      <td>5.0</td>\n",
       "      <td>20.0</td>\n",
       "      <td>8.0</td>\n",
       "      <td>1.0</td>\n",
       "    </tr>\n",
       "    <tr>\n",
       "      <th>2</th>\n",
       "      <td>3.0</td>\n",
       "      <td>8.0</td>\n",
       "      <td>60.0</td>\n",
       "      <td>8.0</td>\n",
       "      <td>0.0</td>\n",
       "    </tr>\n",
       "    <tr>\n",
       "      <th>3</th>\n",
       "      <td>4.0</td>\n",
       "      <td>9.0</td>\n",
       "      <td>0.0</td>\n",
       "      <td>1.0</td>\n",
       "      <td>0.0</td>\n",
       "    </tr>\n",
       "    <tr>\n",
       "      <th>4</th>\n",
       "      <td>5.0</td>\n",
       "      <td>6.5</td>\n",
       "      <td>25.0</td>\n",
       "      <td>6.0</td>\n",
       "      <td>1.0</td>\n",
       "    </tr>\n",
       "  </tbody>\n",
       "</table>\n",
       "</div>"
      ],
      "text/plain": [
       "   Patient ID  Sleep Quality  Exercise (min/day)  Stress Level  Sleep Disorder\n",
       "0         1.0            7.0                30.0           4.0             0.0\n",
       "1         2.0            5.0                20.0           8.0             1.0\n",
       "2         3.0            8.0                60.0           8.0             0.0\n",
       "3         4.0            9.0                 0.0           1.0             0.0\n",
       "4         5.0            6.5                25.0           6.0             1.0"
      ]
     },
     "execution_count": 2,
     "metadata": {},
     "output_type": "execute_result"
    }
   ],
   "source": [
    "df = pd.read_csv('sleep_disorder_data.csv', index_col=False)\n",
    "df.head()"
   ]
  },
  {
   "cell_type": "markdown",
   "id": "7ce9cb92-4b44-45ca-819d-07b9dd2c09f7",
   "metadata": {},
   "source": [
    "**Exercise 2** - Select the columns Sleep Quality, Exercise (min/day) and Stress Level as your input data `X` and the column Sleep Disorder as your target `y`"
   ]
  },
  {
   "cell_type": "code",
   "execution_count": 3,
   "id": "19436e93-63ef-4df6-8a2d-c42880684599",
   "metadata": {},
   "outputs": [],
   "source": [
    "X = df[['Sleep Quality', 'Exercise (min/day)', 'Stress Level']].to_numpy()\n",
    "y = df['Sleep Disorder'].to_numpy()"
   ]
  },
  {
   "cell_type": "markdown",
   "id": "bbf578ae-1c50-4309-9c99-a10c8604da8d",
   "metadata": {},
   "source": [
    "**Exercise 3** - Standardize the data matrix `X` such that each element in the resulting matrix is the following:\n",
    "\n",
    "\\begin{equation}\n",
    "x_i^j:=\\frac{x_i^j-\\mu^j}{\\sigma^j},\n",
    "\\end{equation}\n",
    "\n",
    "where $x_i^j$ is the $i$th data point in the $j$th column and $\\mu_j$ and $\\sigma_j$ are the mean and standard deviation, respectively, of the $j$th column (note that $\\sigma_j$ refers to the standard deviation of column $j$ of the feature space and is not related to the sigmoid function $\\sigma$)"
   ]
  },
  {
   "cell_type": "code",
   "execution_count": 4,
   "id": "9d26df98-962c-4430-8845-de0506710163",
   "metadata": {},
   "outputs": [],
   "source": [
    "X = (X - np.mean(X, axis=0)) / np.std(X, axis=0)"
   ]
  },
  {
   "cell_type": "markdown",
   "id": "8ed6585d-ed43-450d-9777-485c10c59c24",
   "metadata": {},
   "source": [
    "Now it is time to start building the model. Since the elements in the training set are 3 dimensional (we are looking at 3 features: Sleep Quality, Exercise and Stress Level) our single neuron model will have 3 weights and 1 bias.\n",
    "\n",
    "**Exercise 4** - Initialize a matrix of random weights of shape (3,1) and a bias of shape (1,) between -1 and 1, store them in two variables called `weights` and `bias` and print them. Use the random seed 6 for reproducibility."
   ]
  },
  {
   "cell_type": "code",
   "execution_count": 5,
   "id": "816a69bb-7e8f-44d8-850e-077c21709775",
   "metadata": {},
   "outputs": [
    {
     "name": "stdout",
     "output_type": "stream",
     "text": [
      "[[ 0.7857203 ]\n",
      " [-0.33604039]\n",
      " [ 0.64245825]]\n",
      "[0.04169663]\n"
     ]
    }
   ],
   "source": [
    "np.random.seed(6)\n",
    "weights = np.random.random((3,1)) * 2 - 1\n",
    "bias = np.random.rand(1)\n",
    "print(weights)\n",
    "print(bias)"
   ]
  },
  {
   "cell_type": "markdown",
   "id": "19f60470-a35e-4878-ae4a-982ac7216690",
   "metadata": {},
   "source": [
    "The next step is to define the forward function. The output is given by the weighted sum of the inputs plus the bias, which then goes through a sigmoid function to produce the final prediction $\\hat{y}$:\n",
    "\n",
    "\\begin{equation}\n",
    "\\hat{y}=\\sigma(w_1x_1+w_2x_2+w_3x_3+b)\n",
    "\\end{equation}\n",
    "\n",
    "Given an input column vector $\\vec{x}=\\begin{bmatrix}x_1 \\\\ x_2 \\\\ x_3\\end{bmatrix}$, a weight matrix $W=\\begin{bmatrix}w_1 \\\\ w_2 \\\\ w_3\\end{bmatrix}$ and a bias $b$ we can express the linear combination of the weights and inputs plus the bias in matrix form as\n",
    "\n",
    "\\begin{equation}\n",
    "W^T\\vec{x}+b=\\begin{bmatrix}w_1 & w_2 & w_3\\end{bmatrix}\\begin{bmatrix}x_1 \\\\ x_2 \\\\ x_3\\end{bmatrix}+b=w_1x_1+w_2x_2+w_3x_3+b\n",
    "\\end{equation}\n",
    "\n",
    "which gives the following expression for the prediction:\n",
    "\n",
    "\\begin{equation}\n",
    "\\hat{y}=\\sigma(W^T\\vec{x}+b)\n",
    "\\end{equation}\n",
    "\n",
    "In our case, since each column represents a feature and observations are represented by rows, we also need to transpose the input matrix `X`."
   ]
  },
  {
   "cell_type": "markdown",
   "id": "2a9bba5c-7b77-4a85-8171-e49a9905803c",
   "metadata": {},
   "source": [
    "**Exercise 5** - Define a function called `sigmoid` that takes an input `x` and returns the following:\n",
    "\n",
    "\\begin{equation}\n",
    "\\sigma(x)=\\frac{1}{1+e^{-x}}\n",
    "\\end{equation}\n",
    "\n",
    "remember that you can use `np.exp(x)` to raise $e^x$"
   ]
  },
  {
   "cell_type": "code",
   "execution_count": 6,
   "id": "41399e17-fe4d-421d-a986-042dbeb36d4f",
   "metadata": {},
   "outputs": [],
   "source": [
    "def sigmoid(x):\n",
    "    return 1/(1 + np.exp(-x))"
   ]
  },
  {
   "cell_type": "markdown",
   "id": "e637ced9-03bf-461b-8d1c-4b025ae5bc63",
   "metadata": {},
   "source": [
    "**Exercise 6** - Define a function called `forward` that takes 3 inputs: the weights, the bias and the data matrix `X` and returns the output of the perceptron:\n",
    "\n",
    "\\begin{equation}\n",
    "\\hat{y}=\\sigma(W^TX+b)\n",
    "\\end{equation}\n",
    "\n",
    "Tip: use the previously defined `sigmoid` function."
   ]
  },
  {
   "cell_type": "code",
   "execution_count": 7,
   "id": "404cb4cf-abe1-41b8-9148-a1db89163c8c",
   "metadata": {},
   "outputs": [],
   "source": [
    "def forward(data, weights, bias):\n",
    "    return sigmoid(np.dot(weights.T, data.T) + bias)"
   ]
  },
  {
   "cell_type": "markdown",
   "id": "59cdb3e1-1e6f-451f-bf4d-4680e2bcd695",
   "metadata": {},
   "source": [
    "**Exercise 7** - Make an initial prediction with the untrained model using the `forward` function that you just defined. You should visualize two outputs: the plain output and the rounded output, which will be 1 or 0 for each data point. Compare your predictions with the target $y$. How many did you get right?"
   ]
  },
  {
   "cell_type": "code",
   "execution_count": 8,
   "id": "ddad859b-c77a-4aef-9ca2-877cc9b5dcc5",
   "metadata": {},
   "outputs": [
    {
     "name": "stdout",
     "output_type": "stream",
     "text": [
      "raw output: [[0.39958199 0.39559665 0.65037251 0.6329205  0.46856488]]\n",
      "predictions: [[0. 0. 1. 1. 0.]]\n",
      "targets: [0. 1. 0. 0. 1.]\n",
      "number of correct predictions: 1/5\n"
     ]
    }
   ],
   "source": [
    "output = forward(X, weights, bias)\n",
    "y_pred = np.round(output)\n",
    "correct = int(np.sum(1 - np.abs(y - np.round(y_pred))))\n",
    "\n",
    "print('raw output:', output)\n",
    "print('predictions:', y_pred)\n",
    "print('targets:', y)\n",
    "print(f'number of correct predictions: {correct}/5', )"
   ]
  },
  {
   "cell_type": "markdown",
   "id": "874f42b0-8a46-438c-83f7-0fa76a5c763e",
   "metadata": {},
   "source": [
    "**Exercise 8** - Define a function called `mse_loss` that calculates the mean squared error:\n",
    "\n",
    "\\begin{equation}\n",
    "MSE=\\frac{1}{n}\\sum(y-\\hat{y})^2\n",
    "\\end{equation}"
   ]
  },
  {
   "cell_type": "code",
   "execution_count": 9,
   "id": "2db06d60-3e87-4317-897d-6d9848b79d9d",
   "metadata": {},
   "outputs": [],
   "source": [
    "def loss_function(y, y_pred):\n",
    "    return np.mean((y - y_pred)**2)"
   ]
  },
  {
   "cell_type": "markdown",
   "id": "529f0883-3685-4253-8ec7-6f022bbc31be",
   "metadata": {},
   "source": [
    "Before moving on to the final training loop, we need to define a function that updates the weights according to the value of the gradient, which gives us information about which direction we have to move in order to minimize the loss function. The derivative of the sigmoid function is $\\sigma(z)'=\\sigma(z)(1-\\sigma(z))$ and the gradient of the loss function $L$ for some input vector $\\vec{x}$ and target $y$ is given by \n",
    "\n",
    "\\begin{equation}\n",
    "\\nabla L(x,y)=\\begin{bmatrix}\n",
    "           \\frac{\\partial L}{\\partial w_1} \\\\\n",
    "           \\frac{\\partial L}{\\partial w_2} \\\\\n",
    "           \\frac{\\partial L}{\\partial w_3} \\\\\n",
    "           \\frac{\\partial L}{\\partial b} \n",
    "         \\end{bmatrix}=\\begin{bmatrix}\n",
    "         -2x_1\\left[\\left(1-\\sigma(x)\\right)\\sigma(x)\\right]\\left[y-\\sigma(x)\\right] \\\\\n",
    "         -2x_2\\left[\\left(1-\\sigma(x)\\right)\\sigma(x)\\right]\\left[y-\\sigma(x)\\right] \\\\\n",
    "         -2x_3\\left[\\left(1-\\sigma(x)\\right)\\sigma(x)\\right]\\left[y-\\sigma(x)\\right] \\\\\n",
    "         -2\\left[\\left(1-\\sigma(x)\\right)\\sigma(x)\\right]\\left[y-\\sigma(x)\\right]\n",
    "         \\end{bmatrix}\n",
    "         \\end{equation}"
   ]
  },
  {
   "cell_type": "markdown",
   "id": "85cd16ad-bd6f-4b80-bc1c-e3cf02c35730",
   "metadata": {},
   "source": [
    "**Exercise 9** - Define a function called `compute_gradient` that takes as input the data matrix $X$ the target $y$, the weights and the bias and returns the gradient of the loss function $L$ as a tuple: the first value is an array with three entries consisting of the derivative of the loss function with respect to each weight and the second value is the derivative of the loss function with respect to the bias."
   ]
  },
  {
   "cell_type": "code",
   "execution_count": 10,
   "id": "a9eb0f8e-87bf-414e-b517-c73b8ba994a8",
   "metadata": {},
   "outputs": [],
   "source": [
    "def compute_gradient(inputs, targets, weights, bias):\n",
    "    y_pred = forward(inputs, weights, bias)\n",
    "    grad = -2 * ((1 - y_pred) * y_pred) * (targets - y_pred)\n",
    "    weights_grad = np.dot(grad, X).T\n",
    "    bias_grad = np.mean(grad)\n",
    "    return weights_grad, bias_grad"
   ]
  },
  {
   "cell_type": "markdown",
   "id": "a58ae12b-89eb-4ecd-ac79-81c61fd8d073",
   "metadata": {},
   "source": [
    "Finally, we need to define the training loop. At each step, we will use `X` as the input and `y` as the target that we will compare to the output, and we will update the weights such that the error decreases.\n",
    "\n",
    "**Exercise 10** - Define a training loop with 30 epochs and learning rate $\\alpha=0.1$. Use the previously defined `compute_gradient` function and update the weights accordingly. At each step, print the loss and store it in a list."
   ]
  },
  {
   "cell_type": "code",
   "execution_count": 11,
   "id": "6f653417-12ce-4043-a67c-e9a5c36644af",
   "metadata": {},
   "outputs": [
    {
     "name": "stdout",
     "output_type": "stream",
     "text": [
      "0.3261930464552731\n",
      "0.29034458333530544\n",
      "0.25816223826607104\n",
      "0.23063027814622625\n",
      "0.20768953128602438\n",
      "0.18868914419803953\n",
      "0.17284175943692043\n",
      "0.15945797817460422\n",
      "0.1480059208574001\n",
      "0.1380938748332618\n",
      "0.1294346048727347\n",
      "0.12181356959855986\n",
      "0.1150659154624287\n",
      "0.109061199180384\n",
      "0.10369358488596792\n",
      "0.09887556059965373\n",
      "0.09453380751867302\n",
      "0.09060636071729258\n",
      "0.08704055035736198\n",
      "0.08379143121013413\n",
      "0.08082053574055023\n",
      "0.07809485677961925\n",
      "0.07558600385139139\n",
      "0.07326949737341296\n",
      "0.07112417575176436\n",
      "0.0691316964743753\n",
      "0.06727611605649539\n",
      "0.06554353628429081\n",
      "0.0639218061888249\n",
      "0.062400270812626446\n"
     ]
    }
   ],
   "source": [
    "learning_rate = 0.1\n",
    "loss_per_epoch = []\n",
    "\n",
    "for epoch in range(30):\n",
    "    y_pred = forward(X, weights, bias)\n",
    "    loss = loss_function(y, y_pred)\n",
    "    print(loss)\n",
    "    loss_per_epoch.append(loss)\n",
    "    weights_grad, bias_grad = compute_gradient(X, y, weights, bias)\n",
    "    weights -= learning_rate * weights_grad\n",
    "    bias -= learning_rate * bias_grad"
   ]
  },
  {
   "cell_type": "markdown",
   "id": "f8d6487a-24c4-43e7-ac92-28c0b34a726e",
   "metadata": {},
   "source": [
    "**Exercise 11** - Plot the loss per epoch. Label the x-axis 'Epoch' and the y-axis 'Loss (MSE)', both with font size 14. Is the perceptron learning from the training data?"
   ]
  },
  {
   "cell_type": "code",
   "execution_count": 12,
   "id": "005cea80-4e79-4ed3-8125-80f8ff6f77f6",
   "metadata": {},
   "outputs": [
    {
     "data": {
      "text/plain": [
       "Text(0, 0.5, 'Loss (MSE)')"
      ]
     },
     "execution_count": 12,
     "metadata": {},
     "output_type": "execute_result"
    },
    {
     "data": {
      "image/png": "[encoded data removed]",
      "text/plain": [
       "<Figure size 432x288 with 1 Axes>"
      ]
     },
     "metadata": {
      "needs_background": "light"
     },
     "output_type": "display_data"
    }
   ],
   "source": [
    "plt.plot(loss_per_epoch)\n",
    "plt.xlabel('Epoch', fontsize=14)\n",
    "plt.ylabel('Loss (MSE)', fontsize=14)"
   ]
  },
  {
   "cell_type": "markdown",
   "id": "8ff4f608-677a-4008-9ffd-344c8ca8551b",
   "metadata": {},
   "source": [
    "**Exercise 12** - Print the final weights matrix and the bias. How do they compare with the initial weights and bias from exercise 4? Which features are positively correlated and which ones negatively correlated with the presence of a sleep disorder?"
   ]
  },
  {
   "cell_type": "code",
   "execution_count": 13,
   "id": "79d629a5-70c7-421b-a619-7bead2231286",
   "metadata": {},
   "outputs": [
    {
     "name": "stdout",
     "output_type": "stream",
     "text": [
      "[[-0.68898396]\n",
      " [-1.05789923]\n",
      " [ 1.2552708 ]]\n",
      "[-0.07085526]\n"
     ]
    }
   ],
   "source": [
    "print(weights)\n",
    "print(bias)"
   ]
  },
  {
   "cell_type": "markdown",
   "id": "2a6bf810-6a19-45c7-8fed-1c00be82b968",
   "metadata": {},
   "source": [
    "**Exercise 13** - Make a final prediction with the trained model and compare it to the target $y$. How many of your predictions are correct? What is the accuracy of your model?"
   ]
  },
  {
   "cell_type": "code",
   "execution_count": 14,
   "id": "3e416637-55d5-4232-925a-53923dc0a0b0",
   "metadata": {},
   "outputs": [
    {
     "name": "stdout",
     "output_type": "stream",
     "text": [
      "predictions:  [[0. 1. 0. 0. 1.]]\n",
      "targets:  [0. 1. 0. 0. 1.]\n",
      "number of correct predictions: 5/5\n",
      "accuracy: 100%\n"
     ]
    }
   ],
   "source": [
    "y_pred = np.round(forward(X, weights, bias))\n",
    "correct = int(np.sum(1 - np.abs(y - np.round(y_pred))))\n",
    "accuracy = (1 - np.mean(np.abs(y - y_pred))) * 100\n",
    "\n",
    "print('predictions: ', y_pred)\n",
    "print('targets: ', y)\n",
    "print(f'number of correct predictions: {correct}/5', )\n",
    "print(f'accuracy: {int(accuracy)}%')"
   ]
  }
 ],
 "metadata": {
  "kernelspec": {
   "display_name": "Python 3 (ipykernel)",
   "language": "python",
   "name": "python3"
  },
  "language_info": {
   "codemirror_mode": {
    "name": "ipython",
    "version": 3
   },
   "file_extension": ".py",
   "mimetype": "text/x-python",
   "name": "python",
   "nbconvert_exporter": "python",
   "pygments_lexer": "ipython3",
   "version": "3.8.10"
  }
 },
 "nbformat": 4,
 "nbformat_minor": 5
}
