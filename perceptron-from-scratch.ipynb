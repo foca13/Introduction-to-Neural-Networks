{
 "cells": [
  {
   "cell_type": "markdown",
   "id": "3147bb98-a665-4e76-b9bd-22af4260d017",
   "metadata": {},
   "source": [
    "<h3> The Perceptron </h3>"
   ]
  },
  {
   "cell_type": "markdown",
   "id": "b8d38fe9-56b3-4daf-b014-332bc98b23e5",
   "metadata": {},
   "source": [
    "Today we will build a perceptron that will allow us to determine whether a patient has a sleep disorder or not. We will build it and train it from scratch using only the numpy library, with the additional support of pandas to load the data and matplotlib to visualize the training process and results."
   ]
  },
  {
   "cell_type": "markdown",
   "id": "2e5a3c59-88c3-4a7e-b53c-971e87089f87",
   "metadata": {},
   "source": [
    "<center>\n",
    "    <figure>\n",
    "    <img src=\"perceptron-diagram.png\" alt=\"perceptron\" width=\"75%\"/>\n",
    "      <figcaption>Schematic representation of a Perceptron</figcaption>\n",
    "    </figure>\n",
    "</center>"
   ]
  },
  {
   "cell_type": "code",
   "execution_count": null,
   "id": "0d1c081e-ec3c-4225-a1ff-28f35d38c3ef",
   "metadata": {},
   "outputs": [],
   "source": [
    "import matplotlib.pyplot as plt\n",
    "import numpy as np\n",
    "import pandas as pd"
   ]
  },
  {
   "cell_type": "markdown",
   "id": "661aa0a6-8f5c-43db-ae43-cc109f631acf",
   "metadata": {},
   "source": [
    "**Exercise 1** - Load the data from the sleep_disorder_data.csv file with pandas and visualize it in the notebook."
   ]
  },
  {
   "cell_type": "code",
   "execution_count": null,
   "id": "e6842ebe-e38f-4d10-8d2c-7769650fba57",
   "metadata": {},
   "outputs": [],
   "source": [
    "# your code goes here"
   ]
  },
  {
   "cell_type": "markdown",
   "id": "7ce9cb92-4b44-45ca-819d-07b9dd2c09f7",
   "metadata": {},
   "source": [
    "**Exercise 2** - Select the columns Sleep Quality, Exercise (min/day) and Stress Level as your input data `X` and the column Sleep Disorder as your target `y`"
   ]
  },
  {
   "cell_type": "code",
   "execution_count": null,
   "id": "dbe95959-5f03-4f79-9303-0a56ea31dda6",
   "metadata": {},
   "outputs": [],
   "source": [
    "# your code goes here"
   ]
  },
  {
   "cell_type": "markdown",
   "id": "bbf578ae-1c50-4309-9c99-a10c8604da8d",
   "metadata": {},
   "source": [
    "**Exercise 3** - Standardize the data matrix `X` such that each element in the resulting matrix is the following:\n",
    "\n",
    "\\begin{equation}\n",
    "x_i^j:=\\frac{x_i^j-\\mu^j}{\\sigma^j},\n",
    "\\end{equation}\n",
    "\n",
    "where $x_i^j$ is the $i$th data point in the $j$th column and $\\mu_j$ and $\\sigma_j$ are the mean and standard deviation, respectively, of the $j$th column (note that $\\sigma_j$ refers to the standard deviation of column $j$ of the feature space and is not related to the sigmoid function $\\sigma$)"
   ]
  },
  {
   "cell_type": "code",
   "execution_count": null,
   "id": "b94a28ec-9851-45f1-8e2e-dab9393eb17e",
   "metadata": {},
   "outputs": [],
   "source": [
    "# your code goes here"
   ]
  },
  {
   "cell_type": "markdown",
   "id": "8ed6585d-ed43-450d-9777-485c10c59c24",
   "metadata": {},
   "source": [
    "Now it is time to start building the model. Since the elements in the training set are 3 dimensional (we are looking at 3 features: Sleep Quality, Exercise and Stress Level) our single neuron model will have 3 weights and 1 bias.\n",
    "\n",
    "**Exercise 4** - Initialize a matrix of random weights of shape (3,1) and a bias of shape (1,) between -1 and 1, store them in two variables called `weights` and `bias` and print them. Use the random seed 6 for reproducibility."
   ]
  },
  {
   "cell_type": "code",
   "execution_count": null,
   "id": "345f8c6b-2a94-4885-b099-dd519c091ba8",
   "metadata": {},
   "outputs": [],
   "source": [
    "np.random.seed(6)\n",
    "# your code goes here"
   ]
  },
  {
   "cell_type": "markdown",
   "id": "19f60470-a35e-4878-ae4a-982ac7216690",
   "metadata": {},
   "source": [
    "The next step is to define the forward function. The output is given by the weighted sum of the inputs plus the bias, which then goes through a sigmoid function to produce the final prediction $\\hat{y}$:\n",
    "\n",
    "\\begin{equation}\n",
    "\\hat{y}=\\sigma(w_1x_1+w_2x_2+w_3x_3+b)\n",
    "\\end{equation}\n",
    "\n",
    "Given an input column vector $\\vec{x}=\\begin{bmatrix}x_1 \\\\ x_2 \\\\ x_3\\end{bmatrix}$, a weight matrix $W=\\begin{bmatrix}w_1 \\\\ w_2 \\\\ w_3\\end{bmatrix}$ and a bias $b$ we can express the linear combination of the weights and inputs plus the bias in matrix form as\n",
    "\n",
    "\\begin{equation}\n",
    "W^T\\vec{x}+b=\\begin{bmatrix}w_1 & w_2 & w_3\\end{bmatrix}\\begin{bmatrix}x_1 \\\\ x_2 \\\\ x_3\\end{bmatrix}+b=w_1x_1+w_2x_2+w_3x_3+b\n",
    "\\end{equation}\n",
    "\n",
    "which gives the following expression for the prediction:\n",
    "\n",
    "\\begin{equation}\n",
    "\\hat{y}=\\sigma(W^T\\vec{x}+b)\n",
    "\\end{equation}\n",
    "\n",
    "In our case, since each column represents a feature and observations are represented by rows, we also need to transpose the input matrix `X`."
   ]
  },
  {
   "cell_type": "markdown",
   "id": "2a9bba5c-7b77-4a85-8171-e49a9905803c",
   "metadata": {},
   "source": [
    "**Exercise 5** - Define a function called `sigmoid` that takes an input `x` and returns the following:\n",
    "\n",
    "\\begin{equation}\n",
    "\\sigma(x)=\\frac{1}{1+e^{-x}}\n",
    "\\end{equation}\n",
    "\n",
    "remember that you can use `np.exp(x)` to raise $e^x$"
   ]
  },
  {
   "cell_type": "code",
   "execution_count": null,
   "id": "128234f0-e465-46c2-b1a9-89f2de59f9df",
   "metadata": {},
   "outputs": [],
   "source": [
    "# your code goes here"
   ]
  },
  {
   "cell_type": "markdown",
   "id": "e637ced9-03bf-461b-8d1c-4b025ae5bc63",
   "metadata": {},
   "source": [
    "**Exercise 6** - Define a function called `forward` that takes 3 inputs: the weights, the bias and the data matrix `X` and returns the output of the perceptron:\n",
    "\n",
    "\\begin{equation}\n",
    "\\hat{y}=\\sigma(W^TX+b)\n",
    "\\end{equation}\n",
    "\n",
    "Tip: use the previously defined `sigmoid` function."
   ]
  },
  {
   "cell_type": "code",
   "execution_count": null,
   "id": "f964c4be-5268-42cf-9bbd-e565d47aa9ac",
   "metadata": {},
   "outputs": [],
   "source": [
    "# your code goes here"
   ]
  },
  {
   "cell_type": "markdown",
   "id": "c59c16a4-70d9-44eb-afb8-cf0c84cf6c29",
   "metadata": {},
   "source": [
    "**Exercise 7** - Make an initial prediction with the untrained model using the `forward` function that you just defined. You should visualize two outputs: the plain output and the rounded output, which will be 1 or 0 for each data point. Compare your predictions with the target $y$. How many did you get right?"
   ]
  },
  {
   "cell_type": "code",
   "execution_count": null,
   "id": "ea9226cf-16ad-4958-9582-7c010cdb5dd4",
   "metadata": {},
   "outputs": [],
   "source": [
    "# your code goes here"
   ]
  },
  {
   "cell_type": "markdown",
   "id": "874f42b0-8a46-438c-83f7-0fa76a5c763e",
   "metadata": {},
   "source": [
    "**Exercise 8** - Define a function called `mse_loss` that calculates the mean squared error:\n",
    "\n",
    "\\begin{equation}\n",
    "MSE=\\frac{1}{n}\\sum(y-\\hat{y})^2\n",
    "\\end{equation}"
   ]
  },
  {
   "cell_type": "code",
   "execution_count": null,
   "id": "c62871d7-d6e1-4b6e-a5a6-0f6b90928be2",
   "metadata": {},
   "outputs": [],
   "source": [
    "# your code goes here"
   ]
  },
  {
   "cell_type": "markdown",
   "id": "529f0883-3685-4253-8ec7-6f022bbc31be",
   "metadata": {},
   "source": [
    "Before moving on to the final training loop, we need to define a function that updates the weights according to the value of the gradient, which gives us information about which direction we have to move in order to minimize the loss function. The derivative of the sigmoid function is $\\sigma(z)'=\\sigma(z)(1-\\sigma(z))$ and the gradient of the loss function $L$ for some input vector $\\vec{x}$ and target $y$ is given by \n",
    "\n",
    "\\begin{equation}\n",
    "\\nabla L(x,y)=\\begin{bmatrix}\n",
    "           \\frac{\\partial L}{\\partial w_1} \\\\\n",
    "           \\frac{\\partial L}{\\partial w_2} \\\\\n",
    "           \\frac{\\partial L}{\\partial w_3} \\\\\n",
    "           \\frac{\\partial L}{\\partial b} \n",
    "         \\end{bmatrix}=\\begin{bmatrix}\n",
    "         -2x_1\\left[\\left(1-\\sigma(x)\\right)\\sigma(x)\\right]\\left[y-\\sigma(x)\\right] \\\\\n",
    "         -2x_2\\left[\\left(1-\\sigma(x)\\right)\\sigma(x)\\right]\\left[y-\\sigma(x)\\right] \\\\\n",
    "         -2x_3\\left[\\left(1-\\sigma(x)\\right)\\sigma(x)\\right]\\left[y-\\sigma(x)\\right] \\\\\n",
    "         -2\\left[\\left(1-\\sigma(x)\\right)\\sigma(x)\\right]\\left[y-\\sigma(x)\\right]\n",
    "         \\end{bmatrix}\n",
    "         \\end{equation}"
   ]
  },
  {
   "cell_type": "markdown",
   "id": "85cd16ad-bd6f-4b80-bc1c-e3cf02c35730",
   "metadata": {},
   "source": [
    "**Exercise 9** - Define a function called `compute_gradient` that takes as input the weights, bias, input data $X$ and target $y$ and returns the gradient of the loss function $L$ as a tuple: the first value is an array with three entries consisting of the derivative of the loss function with respect to each weight and the second value is the derivative of the loss function with respect to the bias."
   ]
  },
  {
   "cell_type": "code",
   "execution_count": null,
   "id": "a5037e97-ea90-4db4-ad6d-1acd0936bf5c",
   "metadata": {},
   "outputs": [],
   "source": [
    "# your code goes here"
   ]
  },
  {
   "cell_type": "markdown",
   "id": "a58ae12b-89eb-4ecd-ac79-81c61fd8d073",
   "metadata": {},
   "source": [
    "Finally, we need to define the training loop. At each step, we will use `X` as the input and `y` as the target that we will compare to the output, and we will update the weights such that the error decreases.\n",
    "\n",
    "**Exercise 10** - Define a training loop with 30 epochs and learning rate $\\alpha=0.1$. Use the previously defined `compute_gradient` function and update the weights accordingly. At each step, print the loss and store it in a list."
   ]
  },
  {
   "cell_type": "code",
   "execution_count": null,
   "id": "6173a3a5-bdc1-47d5-bdfd-a2421e686441",
   "metadata": {},
   "outputs": [],
   "source": [
    "# your code goes here"
   ]
  },
  {
   "cell_type": "markdown",
   "id": "f8d6487a-24c4-43e7-ac92-28c0b34a726e",
   "metadata": {},
   "source": [
    "**Exercise 11** - Plot the loss per epoch. Is the perceptron learning from the training data?"
   ]
  },
  {
   "cell_type": "code",
   "execution_count": null,
   "id": "8dc12b0b-4dd6-4e91-b72a-1fb120928f55",
   "metadata": {},
   "outputs": [],
   "source": [
    "# your code goes here"
   ]
  },
  {
   "cell_type": "markdown",
   "id": "8ff4f608-677a-4008-9ffd-344c8ca8551b",
   "metadata": {},
   "source": [
    "**Exercise 12** - Print the final weights matrix and the bias. How do they compare with the initial weights and bias from exercise 4? Which features are positively correlated and which ones negatively correlated with the presence of a sleep disorder?"
   ]
  },
  {
   "cell_type": "code",
   "execution_count": null,
   "id": "79d629a5-70c7-421b-a619-7bead2231286",
   "metadata": {},
   "outputs": [],
   "source": [
    "# your code goes here"
   ]
  },
  {
   "cell_type": "markdown",
   "id": "b802f8b0-1a67-4e63-b658-0418626dc8ad",
   "metadata": {},
   "source": [
    "**Exercise 13** - Make a final prediction with the trained model and compare it to the target $y$. How many of your predictions are correct? What is the accuracy of your model?"
   ]
  },
  {
   "cell_type": "code",
   "execution_count": null,
   "id": "35dc80e2-73f3-4698-8d34-7f0f0ce52073",
   "metadata": {},
   "outputs": [],
   "source": [
    "# your code goes here"
   ]
  }
 ],
 "metadata": {
  "kernelspec": {
   "display_name": "Python 3 (ipykernel)",
   "language": "python",
   "name": "python3"
  },
  "language_info": {
   "codemirror_mode": {
    "name": "ipython",
    "version": 3
   },
   "file_extension": ".py",
   "mimetype": "text/x-python",
   "name": "python",
   "nbconvert_exporter": "python",
   "pygments_lexer": "ipython3",
   "version": "3.8.10"
  }
 },
 "nbformat": 4,
 "nbformat_minor": 5
}
